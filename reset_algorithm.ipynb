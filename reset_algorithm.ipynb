{
 "cells": [
  {
   "cell_type": "code",
   "execution_count": 28,
   "metadata": {},
   "outputs": [],
   "source": [
    "from selenium import webdriver\n",
    "from selenium.webdriver.common.by import By\n",
    "import time\n",
    "url = 'https://x.com'\n",
    "instance = webdriver.Chrome()\n",
    "instance.get(url=url)\n",
    "print('60 saniye icinde giris yapmaniz gerekiyor.')\n",
    "time.sleep(60)\n",
    "identifier = \"\"\"[type=\"checkbox\"]\"\"\"\n",
    "checkboxes = instance.find_elements(by = By.CSS_SELECTOR, value=identifier)\n",
    "for ix, checbox in enumerate(checkboxes):\n",
    "    instance.execute_script(f\"window.scrollTo(0, {ix*52});\")\n",
    "    if checbox.is_selected():\n",
    "        checbox.click()"
   ]
  }
 ],
 "metadata": {
  "kernelspec": {
   "display_name": "base",
   "language": "python",
   "name": "python3"
  },
  "language_info": {
   "codemirror_mode": {
    "name": "ipython",
    "version": 3
   },
   "file_extension": ".py",
   "mimetype": "text/x-python",
   "name": "python",
   "nbconvert_exporter": "python",
   "pygments_lexer": "ipython3",
   "version": "3.10.9"
  },
  "orig_nbformat": 4
 },
 "nbformat": 4,
 "nbformat_minor": 2
}
